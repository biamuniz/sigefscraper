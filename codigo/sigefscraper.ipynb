{
 "cells": [
  {
   "cell_type": "markdown",
   "metadata": {
    "id": "YcJA2aKzLG6Z"
   },
   "source": [
    "## **SigefScraper: obtendo informações de imóveis certificados no Sigef com Python**\n"
   ]
  },
  {
   "cell_type": "markdown",
   "metadata": {
    "id": "ahjc7PoWIzxo"
   },
   "source": [
    "**Objetivo**: A partir de uma relação de códigos de parcelas de imóveis certificados no Sigef (Sistema de Gestão Fundiária do Incra), saber quem são seus detentores."
   ]
  },
  {
   "cell_type": "code",
   "execution_count": null,
   "metadata": {
    "id": "DWP66igI5XVl"
   },
   "outputs": [],
   "source": [
    "# Importando as bibliotecas necessárias\n",
    "import pandas as pd\n",
    "from urllib.request import urlopen #para lidar com os links\n",
    "import ssl #para lidar com o certificado de segurança\n",
    "ssl._create_default_https_context = ssl._create_unverified_context\n",
    "import re"
   ]
  },
  {
   "cell_type": "code",
   "execution_count": null,
   "metadata": {
    "id": "oz82VJe_j-Ap"
   },
   "outputs": [],
   "source": [
    "# Lendo o banco de dados\n",
    "df=pd.read_csv(\"https://raw.githubusercontent.com/biamuniz/sigefscraper/main/dados/parcelas.csv\", sep=\";\")\n",
    "# Criando uma coluna com o nome link que vai abrigar o link do detalhe da parcela\n",
    "df['link'] = 'https://sigef.incra.gov.br/geo/parcela/detalhe/' + df['parcela_co']\n",
    "df"
   ]
  },
  {
   "cell_type": "code",
   "execution_count": null,
   "metadata": {
    "id": "CNef5mYxBQ4i"
   },
   "outputs": [],
   "source": [
    "# Olhando os links\n",
    "for i in df['link']:\n",
    "  print(i)"
   ]
  },
  {
   "cell_type": "code",
   "execution_count": null,
   "metadata": {
    "id": "DXx_VDI-Sw09"
   },
   "outputs": [],
   "source": [
    "# Coletando o nome e o documento (CPF/CNPJ) dos detentores de cada parcela linkada\n",
    "for i in list(df['link']):\n",
    "  resposta = urlopen(i)\n",
    "  html = resposta.read().decode(\"utf-8\")\n",
    "  partes = html.split(\"CPF/CNPJ</th>\\n        </tr>\\n        </thead>\\n        <tbody>\\n\\n        \\n\\n            <tr>\\n                <td>\")\n",
    "  for parte in partes:\n",
    "    subparte = parte.split(\"</td>\\n\")\n",
    "    nome = subparte[0]\n",
    "  print(nome)"
   ]
  },
  {
   "cell_type": "code",
   "execution_count": null,
   "metadata": {},
   "outputs": [],
   "source": [
    "for i in list(df['link']):\n",
    "  resposta = urlopen(i)\n",
    "  html = resposta.read().decode(\"utf-8\")\n",
    "  partes = html.split(\"CPF/CNPJ</th>\\n        </tr>\\n        </thead>\\n        <tbody>\\n\\n        \\n\\n            <tr>\\n                <td>\")\n",
    "  for parte in partes:\n",
    "    subparte = parte.split(\"</td>\\n\")\n",
    "    nome = subparte[0]\n",
    "    documento = subparte[1]\n",
    "    documento = re.sub(\"                <td>\", \"\", documento)\n",
    "  print(documento)"
   ]
  }
 ],
 "metadata": {
  "colab": {
   "name": "sigefscraper.ipynb",
   "provenance": []
  },
  "kernelspec": {
   "display_name": "Python 3",
   "language": "python",
   "name": "python3"
  },
  "language_info": {
   "codemirror_mode": {
    "name": "ipython",
    "version": 3
   },
   "file_extension": ".py",
   "mimetype": "text/x-python",
   "name": "python",
   "nbconvert_exporter": "python",
   "pygments_lexer": "ipython3",
   "version": "3.8.8"
  }
 },
 "nbformat": 4,
 "nbformat_minor": 1
}
