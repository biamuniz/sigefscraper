{
  "nbformat": 4,
  "nbformat_minor": 0,
  "metadata": {
    "colab": {
      "name": "sigefscraper.ipynb",
      "provenance": []
    },
    "kernelspec": {
      "name": "python3",
      "display_name": "Python 3"
    },
    "language_info": {
      "name": "python"
    }
  },
  "cells": [
    {
      "cell_type": "markdown",
      "metadata": {
        "id": "YcJA2aKzLG6Z"
      },
      "source": [
        "#<center> **SigefScraper: obtendo informações de imóveis certificados no Sigef com Python**</center>\n"
      ]
    },
    {
      "cell_type": "markdown",
      "metadata": {
        "id": "ahjc7PoWIzxo"
      },
      "source": [
        "**Objetivo**: A partir de uma relação de códigos de parcelas de imóveis certificados no Sigef (Sistema de Gestão Fundiária do Incra), saber quem são seus detentores."
      ]
    },
    {
      "cell_type": "code",
      "metadata": {
        "id": "DWP66igI5XVl"
      },
      "source": [
        "# Importando as bibliotecas necessárias\n",
        "import pandas as pd\n",
        "from urllib.request import urlopen #para lidar com os links\n",
        "import ssl #para lidar com o certificado de segurança\n",
        "ssl._create_default_https_context = ssl._create_unverified_context"
      ],
      "execution_count": 1,
      "outputs": []
    },
    {
      "cell_type": "code",
      "metadata": {
        "id": "oz82VJe_j-Ap"
      },
      "source": [
        "# Lendo o banco de dados\n",
        "df=pd.read_csv(\"parcelas.csv\", sep=\";\")\n",
        "# Criando uma coluna com o nome link que vai abrigar o link do detalhe da parcela\n",
        "df['link'] = 'https://sigef.incra.gov.br/geo/parcela/detalhe/' + df['parcela_co']\n",
        "df"
      ],
      "execution_count": null,
      "outputs": []
    },
    {
      "cell_type": "code",
      "metadata": {
        "id": "CNef5mYxBQ4i"
      },
      "source": [
        "# Olhando os links\n",
        "for i in df['link']:\n",
        "  print(i)"
      ],
      "execution_count": null,
      "outputs": []
    },
    {
      "cell_type": "code",
      "metadata": {
        "id": "DXx_VDI-Sw09"
      },
      "source": [
        "# Coletando o nome e o documento (CPF/CNPJ) dos detentores de cada parcela linkada\n",
        "for i in list(df['link']):\n",
        "  resposta = urlopen(i)\n",
        "  html = resposta.read().decode(\"utf-8\")\n",
        "  partes = html.split(\"CPF/CNPJ</th>\\n        </tr>\\n        </thead>\\n        <tbody>\\n\\n        \\n\\n            <tr>\\n                <td>\")\n",
        "  for parte in partes:\n",
        "    subparte = parte.split(\"</td>\\n\")\n",
        "    nome = subparte[0]\n",
        "    documento = subparte[1]\n",
        "  print(nome)\n",
        "  print(documento)"
      ],
      "execution_count": null,
      "outputs": []
    }
  ]
}