{
  "nbformat": 4,
  "nbformat_minor": 0,
  "metadata": {
    "colab": {
      "name": "webscraping_sigef.ipynb",
      "provenance": []
    },
    "kernelspec": {
      "name": "python3",
      "display_name": "Python 3"
    },
    "language_info": {
      "name": "python"
    }
  },
  "cells": [
    {
      "cell_type": "code",
      "metadata": {
        "id": "gXiCHujWzlnX"
      },
      "source": [
        ""
      ],
      "execution_count": null,
      "outputs": []
    },
    {
      "cell_type": "code",
      "metadata": {
        "id": "er41DYfqtyTz"
      },
      "source": [
        "from urllib.request import urlopen\n",
        "# o trecho abaixo é o q faz o código aceitar o site com certificado não verificado\n",
        "import ssl\n",
        "ssl._create_default_https_context = ssl._create_unverified_context\n",
        "url = \"https://sigef.incra.gov.br/geo/parcela/detalhe/8eef01b3-6431-489e-937c-5416ec4d9db3/\"\n",
        "resposta = urlopen(url)\n",
        "html = resposta.read().decode(\"utf-8\")\n",
        "\n",
        "from bs4 import BeautifulSoup\n",
        "soup = BeautifulSoup(html, 'html.parser')\n",
        "tabela = soup.find_all(name='table', class_='table table-hover tabela-atributos')"
      ],
      "execution_count": 16,
      "outputs": []
    },
    {
      "cell_type": "code",
      "metadata": {
        "id": "NIgrPBzixlGt"
      },
      "source": [
        "div = soup.find_all(name='div', class_='panel-content')"
      ],
      "execution_count": 22,
      "outputs": []
    },
    {
      "cell_type": "code",
      "metadata": {
        "id": "ObtkpDgat34l"
      },
      "source": [
        "print(div)"
      ],
      "execution_count": null,
      "outputs": []
    },
    {
      "cell_type": "code",
      "metadata": {
        "colab": {
          "base_uri": "https://localhost:8080/"
        },
        "id": "ddRe1OOvv8bC",
        "outputId": "838ca041-abba-42a5-e2e3-bbfd1e39b26d"
      },
      "source": [
        "tabela = soup.find_all(name='table', class_='table table-hover tabela-atributos')\n",
        "print(type(tabela))\n",
        "print(len(tabela))"
      ],
      "execution_count": 20,
      "outputs": [
        {
          "output_type": "stream",
          "name": "stdout",
          "text": [
            "<class 'bs4.element.ResultSet'>\n",
            "6\n"
          ]
        }
      ]
    },
    {
      "cell_type": "code",
      "metadata": {
        "id": "ZbMnYMAWwq47"
      },
      "source": [
        "print(tabela)"
      ],
      "execution_count": null,
      "outputs": []
    }
  ]
}