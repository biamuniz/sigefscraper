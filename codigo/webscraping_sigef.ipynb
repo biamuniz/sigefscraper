{
  "nbformat": 4,
  "nbformat_minor": 0,
  "metadata": {
    "colab": {
      "name": "webscraping_sigef.ipynb",
      "provenance": []
    },
    "kernelspec": {
      "name": "python3",
      "display_name": "Python 3"
    },
    "language_info": {
      "name": "python"
    }
  },
  "cells": [
    {
      "cell_type": "code",
      "metadata": {
        "id": "gXiCHujWzlnX"
      },
      "source": [
        "from urllib.request import urlopen"
      ],
      "execution_count": 1,
      "outputs": []
    },
    {
      "cell_type": "code",
      "metadata": {
        "id": "er41DYfqtyTz"
      },
      "source": [
        "# o trecho abaixo é o q faz o código aceitar o site com certificado não verificado\n",
        "import ssl\n",
        "ssl._create_default_https_context = ssl._create_unverified_context"
      ],
      "execution_count": 3,
      "outputs": []
    },
    {
      "cell_type": "code",
      "metadata": {
        "id": "gqrN-pKV_gSJ"
      },
      "source": [
        "url = \"xxxxxxxxxxxxxxxx\"\n",
        "resposta = urlopen(url)\n",
        "html = resposta.read().decode(\"utf-8\")"
      ],
      "execution_count": 4,
      "outputs": []
    },
    {
      "cell_type": "code",
      "metadata": {
        "id": "lzML_KICARf0"
      },
      "source": [
        "partes = html.split(\"CPF/CNPJ</th>\\n        </tr>\\n        </thead>\\n        <tbody>\\n\\n        \\n\\n            <tr>\\n                <td>\")"
      ],
      "execution_count": 5,
      "outputs": []
    },
    {
      "cell_type": "code",
      "metadata": {
        "id": "qWYJ880IBw3d"
      },
      "source": [
        "len(partes)"
      ],
      "execution_count": null,
      "outputs": []
    },
    {
      "cell_type": "code",
      "metadata": {
        "id": "bCV6LRWiC5cs"
      },
      "source": [
        "for parte in partes:\n",
        "  subparte = parte.split(\"</td>\\n\")\n",
        "  nome = subparte[0]\n",
        "  documento = subparte[1]"
      ],
      "execution_count": 7,
      "outputs": []
    },
    {
      "cell_type": "code",
      "metadata": {
        "id": "WzcFbUgWEElM"
      },
      "source": [
        "print(nome)\n",
        "print(documento)"
      ],
      "execution_count": null,
      "outputs": []
    }
  ]
}