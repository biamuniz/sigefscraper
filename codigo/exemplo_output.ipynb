{
  "nbformat": 4,
  "nbformat_minor": 0,
  "metadata": {
    "colab": {
      "name": "exemplo_sigefscraper.ipynb",
      "provenance": []
    },
    "kernelspec": {
      "name": "python3",
      "display_name": "Python 3"
    },
    "language_info": {
      "name": "python"
    }
  },
  "cells": [
    {
      "cell_type": "markdown",
      "metadata": {
        "id": "YcJA2aKzLG6Z"
      },
      "source": [
        "#<center> **SigefScraper: obtendo informações de imóveis certificados no Sigef com Python**</center>\n"
      ]
    },
    {
      "cell_type": "markdown",
      "metadata": {
        "id": "ahjc7PoWIzxo"
      },
      "source": [
        "**Objetivo**: A partir de uma relação de códigos de parcelas de imóveis certificados no Sigef (Sistema de Gestão Fundiária do Incra), saber quem são seus detentores."
      ]
    },
    {
      "cell_type": "code",
      "metadata": {
        "id": "DWP66igI5XVl"
      },
      "source": [
        "# Importando as bibliotecas necessárias\n",
        "import pandas as pd\n",
        "from urllib.request import urlopen #para lidar com os links\n",
        "import ssl #para lidar com o certificado de segurança\n",
        "ssl._create_default_https_context = ssl._create_unverified_context"
      ],
      "execution_count": 39,
      "outputs": []
    },
    {
      "cell_type": "code",
      "metadata": {
        "id": "oz82VJe_j-Ap"
      },
      "source": [
        "# Lendo o banco de dados\n",
        "df=pd.read_csv(\"parcelas.csv\", sep=\";\")\n",
        "# Criando uma coluna com o nome \"link_detalhe\" que vai abrigar o link do detalhe da parcela\n",
        "df['link_detalhe'] = 'https://sigef.incra.gov.br/geo/parcela/detalhe/' + df['parcela_co']"
      ],
      "execution_count": 46,
      "outputs": []
    },
    {
      "cell_type": "code",
      "metadata": {
        "colab": {
          "base_uri": "https://localhost:8080/",
          "height": 783
        },
        "id": "kC5C7dbTe2aI",
        "outputId": "3489bf22-3436-4a2e-ce14-6015a8c5accc"
      },
      "source": [
        "df"
      ],
      "execution_count": 47,
      "outputs": [
        {
          "output_type": "execute_result",
          "data": {
            "text/html": [
              "<div>\n",
              "<style scoped>\n",
              "    .dataframe tbody tr th:only-of-type {\n",
              "        vertical-align: middle;\n",
              "    }\n",
              "\n",
              "    .dataframe tbody tr th {\n",
              "        vertical-align: top;\n",
              "    }\n",
              "\n",
              "    .dataframe thead th {\n",
              "        text-align: right;\n",
              "    }\n",
              "</style>\n",
              "<table border=\"1\" class=\"dataframe\">\n",
              "  <thead>\n",
              "    <tr style=\"text-align: right;\">\n",
              "      <th></th>\n",
              "      <th>parcela_co</th>\n",
              "      <th>situacao_i</th>\n",
              "      <th>codigo_imo</th>\n",
              "      <th>data_submi</th>\n",
              "      <th>data_aprov</th>\n",
              "      <th>status</th>\n",
              "      <th>nome_area</th>\n",
              "      <th>municipio_</th>\n",
              "      <th>uf_id</th>\n",
              "      <th>link_detalhe</th>\n",
              "    </tr>\n",
              "  </thead>\n",
              "  <tbody>\n",
              "    <tr>\n",
              "      <th>0</th>\n",
              "      <td>e66291c1-c857-4858-8447-9b7be926ba0d</td>\n",
              "      <td>TITULADANAOREGISTRADA</td>\n",
              "      <td>1,00E+13</td>\n",
              "      <td>11/06/2018</td>\n",
              "      <td>11/06/2018</td>\n",
              "      <td>CERTIFICADA</td>\n",
              "      <td>FAZENDA SANTO ANTONIO</td>\n",
              "      <td>3509205</td>\n",
              "      <td>35</td>\n",
              "      <td>https://sigef.incra.gov.br/geo/parcela/detalhe...</td>\n",
              "    </tr>\n",
              "    <tr>\n",
              "      <th>1</th>\n",
              "      <td>c7fee801-6369-40ec-875a-026d308de988</td>\n",
              "      <td>TITULADANAOREGISTRADA</td>\n",
              "      <td>9,51E+12</td>\n",
              "      <td>20/08/2018</td>\n",
              "      <td>20/08/2018</td>\n",
              "      <td>CERTIFICADA</td>\n",
              "      <td>FAZENDA GUATURINHO</td>\n",
              "      <td>3509205</td>\n",
              "      <td>35</td>\n",
              "      <td>https://sigef.incra.gov.br/geo/parcela/detalhe...</td>\n",
              "    </tr>\n",
              "    <tr>\n",
              "      <th>2</th>\n",
              "      <td>96eeb83f-23be-4d77-8622-d79d142f64d7</td>\n",
              "      <td>TITULADANAOREGISTRADA</td>\n",
              "      <td>9,51E+12</td>\n",
              "      <td>15/08/2018</td>\n",
              "      <td>20/08/2018</td>\n",
              "      <td>CERTIFICADA</td>\n",
              "      <td>G.1 FAZENDA JUQUERI-GUASSU</td>\n",
              "      <td>3509205</td>\n",
              "      <td>35</td>\n",
              "      <td>https://sigef.incra.gov.br/geo/parcela/detalhe...</td>\n",
              "    </tr>\n",
              "    <tr>\n",
              "      <th>3</th>\n",
              "      <td>0d6f20ed-1de5-4791-b42b-6c138eba9c59</td>\n",
              "      <td>TITULADANAOREGISTRADA</td>\n",
              "      <td>6,38E+12</td>\n",
              "      <td>20/05/2019</td>\n",
              "      <td>20/05/2019</td>\n",
              "      <td>CERTIFICADA</td>\n",
              "      <td>CHÁCARA TUIUTÍ</td>\n",
              "      <td>3509205</td>\n",
              "      <td>35</td>\n",
              "      <td>https://sigef.incra.gov.br/geo/parcela/detalhe...</td>\n",
              "    </tr>\n",
              "    <tr>\n",
              "      <th>4</th>\n",
              "      <td>08d99736-e2d2-4ba8-a45b-980d88404603</td>\n",
              "      <td>TITULADANAOREGISTRADA</td>\n",
              "      <td>6,38E+12</td>\n",
              "      <td>30/09/2019</td>\n",
              "      <td>30/09/2019</td>\n",
              "      <td>CERTIFICADA</td>\n",
              "      <td>SÍTIO SÃO PEDRO</td>\n",
              "      <td>3509205</td>\n",
              "      <td>35</td>\n",
              "      <td>https://sigef.incra.gov.br/geo/parcela/detalhe...</td>\n",
              "    </tr>\n",
              "    <tr>\n",
              "      <th>5</th>\n",
              "      <td>96f35aaf-925f-4dd8-a796-4ff9063a1d78</td>\n",
              "      <td>TITULADANAOREGISTRADA</td>\n",
              "      <td>6,38E+12</td>\n",
              "      <td>30/09/2019</td>\n",
              "      <td>30/09/2019</td>\n",
              "      <td>CERTIFICADA</td>\n",
              "      <td>SÍTIO SÃO PEDRO</td>\n",
              "      <td>3509205</td>\n",
              "      <td>35</td>\n",
              "      <td>https://sigef.incra.gov.br/geo/parcela/detalhe...</td>\n",
              "    </tr>\n",
              "    <tr>\n",
              "      <th>6</th>\n",
              "      <td>fd41ce5d-8051-44e8-bb93-6ff9a7ab2791</td>\n",
              "      <td>TITULADANAOREGISTRADA</td>\n",
              "      <td>6,38E+12</td>\n",
              "      <td>15/03/2016</td>\n",
              "      <td>15/03/2016</td>\n",
              "      <td>CERTIFICADA</td>\n",
              "      <td>SITIO CAJAMAR</td>\n",
              "      <td>3509205</td>\n",
              "      <td>35</td>\n",
              "      <td>https://sigef.incra.gov.br/geo/parcela/detalhe...</td>\n",
              "    </tr>\n",
              "    <tr>\n",
              "      <th>7</th>\n",
              "      <td>1d52df86-b925-4662-ad1f-2087262cba1c</td>\n",
              "      <td>TITULADANAOREGISTRADA</td>\n",
              "      <td>9,50E+12</td>\n",
              "      <td>29/03/2016</td>\n",
              "      <td>29/03/2016</td>\n",
              "      <td>CERTIFICADA</td>\n",
              "      <td>SÍTIO DO ZÉ</td>\n",
              "      <td>3509205</td>\n",
              "      <td>35</td>\n",
              "      <td>https://sigef.incra.gov.br/geo/parcela/detalhe...</td>\n",
              "    </tr>\n",
              "    <tr>\n",
              "      <th>8</th>\n",
              "      <td>49651f48-7f6f-417d-bcc3-fb0c08451967</td>\n",
              "      <td>TITULADANAOREGISTRADA</td>\n",
              "      <td>6,38E+12</td>\n",
              "      <td>20/03/2017</td>\n",
              "      <td>20/03/2017</td>\n",
              "      <td>CERTIFICADA</td>\n",
              "      <td>SITIO ROSEIRAL</td>\n",
              "      <td>3509205</td>\n",
              "      <td>35</td>\n",
              "      <td>https://sigef.incra.gov.br/geo/parcela/detalhe...</td>\n",
              "    </tr>\n",
              "  </tbody>\n",
              "</table>\n",
              "</div>"
            ],
            "text/plain": [
              "                             parcela_co  ...                                       link_detalhe\n",
              "0  e66291c1-c857-4858-8447-9b7be926ba0d  ...  https://sigef.incra.gov.br/geo/parcela/detalhe...\n",
              "1  c7fee801-6369-40ec-875a-026d308de988  ...  https://sigef.incra.gov.br/geo/parcela/detalhe...\n",
              "2  96eeb83f-23be-4d77-8622-d79d142f64d7  ...  https://sigef.incra.gov.br/geo/parcela/detalhe...\n",
              "3  0d6f20ed-1de5-4791-b42b-6c138eba9c59  ...  https://sigef.incra.gov.br/geo/parcela/detalhe...\n",
              "4  08d99736-e2d2-4ba8-a45b-980d88404603  ...  https://sigef.incra.gov.br/geo/parcela/detalhe...\n",
              "5  96f35aaf-925f-4dd8-a796-4ff9063a1d78  ...  https://sigef.incra.gov.br/geo/parcela/detalhe...\n",
              "6  fd41ce5d-8051-44e8-bb93-6ff9a7ab2791  ...  https://sigef.incra.gov.br/geo/parcela/detalhe...\n",
              "7  1d52df86-b925-4662-ad1f-2087262cba1c  ...  https://sigef.incra.gov.br/geo/parcela/detalhe...\n",
              "8  49651f48-7f6f-417d-bcc3-fb0c08451967  ...  https://sigef.incra.gov.br/geo/parcela/detalhe...\n",
              "\n",
              "[9 rows x 10 columns]"
            ]
          },
          "metadata": {},
          "execution_count": 47
        }
      ]
    },
    {
      "cell_type": "code",
      "metadata": {
        "id": "CNef5mYxBQ4i",
        "colab": {
          "base_uri": "https://localhost:8080/"
        },
        "outputId": "84faf05b-ab87-47d0-df8d-71e89d414ed7"
      },
      "source": [
        "# Olhando os links\n",
        "for i in df['link_detalhe']:\n",
        "  print(i)"
      ],
      "execution_count": 48,
      "outputs": [
        {
          "output_type": "stream",
          "name": "stdout",
          "text": [
            "https://sigef.incra.gov.br/geo/parcela/detalhe/e66291c1-c857-4858-8447-9b7be926ba0d\n",
            "https://sigef.incra.gov.br/geo/parcela/detalhe/c7fee801-6369-40ec-875a-026d308de988\n",
            "https://sigef.incra.gov.br/geo/parcela/detalhe/96eeb83f-23be-4d77-8622-d79d142f64d7\n",
            "https://sigef.incra.gov.br/geo/parcela/detalhe/0d6f20ed-1de5-4791-b42b-6c138eba9c59\n",
            "https://sigef.incra.gov.br/geo/parcela/detalhe/08d99736-e2d2-4ba8-a45b-980d88404603\n",
            "https://sigef.incra.gov.br/geo/parcela/detalhe/96f35aaf-925f-4dd8-a796-4ff9063a1d78\n",
            "https://sigef.incra.gov.br/geo/parcela/detalhe/fd41ce5d-8051-44e8-bb93-6ff9a7ab2791\n",
            "https://sigef.incra.gov.br/geo/parcela/detalhe/1d52df86-b925-4662-ad1f-2087262cba1c\n",
            "https://sigef.incra.gov.br/geo/parcela/detalhe/49651f48-7f6f-417d-bcc3-fb0c08451967\n"
          ]
        }
      ]
    },
    {
      "cell_type": "code",
      "metadata": {
        "colab": {
          "base_uri": "https://localhost:8080/"
        },
        "id": "JaXxP4pRX7_k",
        "outputId": "4b4fff02-7cce-4247-cf61-4fc46284a2e2"
      },
      "source": [
        "# Coletando o nome e o documento (CPF/CNPJ) dos detentores de cada parcela linkada\n",
        "for i in list(df['link_detalhe']):\n",
        "  resposta = urlopen(i)\n",
        "  html = resposta.read().decode(\"utf-8\")\n",
        "  partes = html.split(\"CPF/CNPJ</th>\\n        </tr>\\n        </thead>\\n        <tbody>\\n\\n        \\n\\n            <tr>\\n                <td>\")\n",
        "  for parte in partes:\n",
        "    subparte = parte.split(\"</td>\\n\")\n",
        "    nome = subparte[0]\n",
        "    documento = subparte[1]\n",
        "  print(nome)\n",
        "  print(documento)"
      ],
      "execution_count": 49,
      "outputs": [
        {
          "output_type": "stream",
          "name": "stdout",
          "text": [
            "HAIDE ALMEIDA FERRAZ FILHA\n",
            "                <td>***.715.448**\n",
            "AMERICO AIECH\n",
            "                <td>***.421.728**\n",
            "AMERICO AIECH\n",
            "                <td>***.421.728**\n",
            "Tuiutí – Participações Imobiliárias S/C Ltda.\n",
            "                <td>**.*36.036/0001**\n",
            "Antonieta Abdalla Mahfuz\n",
            "                <td>***.803.948**\n",
            "Antonieta Abdalla Mahfuz\n",
            "                <td>***.803.948**\n",
            "ATSUKO KUROKI E OUTROS\n",
            "                <td>***.749.028**\n",
            "José Carlos de Oliveira\n",
            "                <td>***.598.848**\n",
            "GERALDO PONTES SIQUEIRA\n",
            "                <td>***.038.808**\n"
          ]
        }
      ]
    }
  ]
}